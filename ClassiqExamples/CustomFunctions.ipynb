{
 "cells": [
  {
   "cell_type": "code",
   "execution_count": 2,
   "outputs": [],
   "source": [
    "from classiq import FunctionGenerator, RegisterUserInput, QUInt, FunctionLibrary, Model, show, synthesize\n",
    "from classiq.builtin_functions import Adder, Negation, StatePreparation"
   ],
   "metadata": {
    "collapsed": false
   }
  },
  {
   "cell_type": "code",
   "execution_count": 4,
   "outputs": [],
   "source": [
    "negation_params = Negation(arg=RegisterUserInput(size=3), inplace=True)\n",
    "adder_params = Adder(\n",
    "     left_arg=RegisterUserInput(size=3), right_arg=negation_params.outputs[negation_params.output_name]\n",
    ")"
   ],
   "metadata": {
    "collapsed": false
   }
  },
  {
   "cell_type": "code",
   "execution_count": 5,
   "outputs": [],
   "source": [
    "function_generator = FunctionGenerator(function_name=\"my_subtractor_function\")\n",
    "\n",
    "input_dictionary = function_generator.create_inputs(\n",
    "    {\"input_arg_1\": QUInt[3], \"input_arg_2\": QUInt[3]}\n",
    ")\n",
    "\n",
    "negation_dictionary = function_generator.Negation(\n",
    "    negation_params, in_wires={\"arg\": input_dictionary[\"input_arg_2\"]}\n",
    ")\n",
    "adder_outputs = function_generator.Adder(\n",
    "    adder_params,\n",
    "    in_wires={\n",
    "        \"left_arg\": input_dictionary[\"input_arg_1\"],\n",
    "        \"right_arg\": negation_dictionary[negation_params.output_name]\n",
    "    },\n",
    ")\n",
    "\n",
    "function_generator.set_outputs({\"difference\": adder_outputs[adder_params.output_name]})"
   ],
   "metadata": {
    "collapsed": false
   }
  },
  {
   "cell_type": "code",
   "execution_count": 6,
   "outputs": [
    {
     "name": "stdout",
     "output_type": "stream",
     "text": [
      "Opening: https://platform.classiq.io/circuit/3b6a429c-e321-4468-8889-5d4df09aa199?version=0.34.0\n"
     ]
    }
   ],
   "source": [
    "composite_function = function_generator.to_function_definition()\n",
    "function_library = FunctionLibrary(composite_function)\n",
    "\n",
    "probabilities = (0.5, 0.1, 0.2, 0.005, 0.015, 0.12, 0.035, 0.025)\n",
    "sp_params = StatePreparation(probabilities=probabilities)\n",
    "\n",
    "model = Model()\n",
    "model.include_library(function_library)\n",
    "sp_outputs = model.StatePreparation(sp_params)\n",
    "\n",
    "model.my_subtractor_function(in_wires={\"input_arg_1\": sp_outputs[\"OUT\"]})\n",
    "\n",
    "quantum_program = synthesize(model.get_model())\n",
    "show(quantum_program)"
   ],
   "metadata": {
    "collapsed": false
   }
  }
 ],
 "metadata": {
  "kernelspec": {
   "display_name": "Python 3",
   "language": "python",
   "name": "python3"
  },
  "language_info": {
   "codemirror_mode": {
    "name": "ipython",
    "version": 2
   },
   "file_extension": ".py",
   "mimetype": "text/x-python",
   "name": "python",
   "nbconvert_exporter": "python",
   "pygments_lexer": "ipython2",
   "version": "2.7.6"
  }
 },
 "nbformat": 4,
 "nbformat_minor": 0
}
