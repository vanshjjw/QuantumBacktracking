{
 "cells": [
  {
   "cell_type": "code",
   "execution_count": 2,
   "outputs": [],
   "source": [
    "from classiq import FunctionGenerator, RegisterUserInput, QUInt, FunctionLibrary, Model, show, synthesize\n",
    "from classiq.builtin_functions import Adder, Negation, StatePreparation"
   ],
   "metadata": {
    "collapsed": false
   }
  },
  {
   "cell_type": "code",
   "execution_count": 12,
   "outputs": [],
   "source": [
    "negation_params = Negation(arg=RegisterUserInput(size=3), inplace=True)\n",
    "adder_params = Adder(\n",
    "    left_arg=RegisterUserInput(size=3), right_arg=negation_params.outputs[negation_params.output_name]\n",
    ")"
   ],
   "metadata": {
    "collapsed": false
   }
  },
  {
   "cell_type": "code",
   "execution_count": 15,
   "outputs": [],
   "source": [
    "function_generator = FunctionGenerator(function_name=\"my_subtractor_function\")\n",
    "\n",
    "input_dictionary = function_generator.create_inputs(\n",
    "    {\"input_arg_1\": QUInt[3], \"input_arg_2\": QUInt[3]}\n",
    ")\n",
    "\n",
    "negation_dictionary = function_generator.Negation(\n",
    "    negation_params, in_wires={\"arg\": input_dictionary[\"input_arg_2\"]}\n",
    ")\n",
    "adder_outputs = function_generator.Adder(\n",
    "    adder_params,\n",
    "    in_wires={\n",
    "        \"left_arg\": input_dictionary[\"input_arg_1\"],\n",
    "        \"right_arg\": negation_dictionary[negation_params.output_name]\n",
    "    },\n",
    ")\n",
    "\n",
    "function_generator.set_outputs({\"difference\": adder_outputs[adder_params.output_name]})"
   ],
   "metadata": {
    "collapsed": false
   }
  },
  {
   "cell_type": "code",
   "execution_count": 16,
   "outputs": [
    {
     "ename": "ClassiqWiringError",
     "evalue": "No register size information on input pin min\nIf you need further assistance, please reach out on our Community Slack channel at: https://short.classiq.io/join-slack\nIf the error persists feel free to open a ticket at: https://short.classiq.io/support",
     "output_type": "error",
     "traceback": [
      "\u001B[1;31m---------------------------------------------------------------------------\u001B[0m",
      "\u001B[1;31mClassiqWiringError\u001B[0m                        Traceback (most recent call last)",
      "Cell \u001B[1;32mIn[16], line 10\u001B[0m\n\u001B[0;32m      8\u001B[0m model\u001B[38;5;241m.\u001B[39minclude_library(function_library)\n\u001B[0;32m      9\u001B[0m sp_outputs \u001B[38;5;241m=\u001B[39m model\u001B[38;5;241m.\u001B[39mStatePreparation(sp_params)\n\u001B[1;32m---> 10\u001B[0m \u001B[43mmodel\u001B[49m\u001B[38;5;241;43m.\u001B[39;49m\u001B[43mmy_subtractor_function\u001B[49m\u001B[43m(\u001B[49m\u001B[43min_wires\u001B[49m\u001B[38;5;241;43m=\u001B[39;49m\u001B[43m{\u001B[49m\u001B[38;5;124;43m\"\u001B[39;49m\u001B[38;5;124;43mmin\u001B[39;49m\u001B[38;5;124;43m\"\u001B[39;49m\u001B[43m:\u001B[49m\u001B[43m \u001B[49m\u001B[43msp_outputs\u001B[49m\u001B[43m[\u001B[49m\u001B[38;5;124;43m\"\u001B[39;49m\u001B[38;5;124;43mOUT\u001B[39;49m\u001B[38;5;124;43m\"\u001B[39;49m\u001B[43m]\u001B[49m\u001B[43m}\u001B[49m\u001B[43m)\u001B[49m\n\u001B[0;32m     12\u001B[0m quantum_program \u001B[38;5;241m=\u001B[39m synthesize(model\u001B[38;5;241m.\u001B[39mget_model())\n\u001B[0;32m     13\u001B[0m show(quantum_program)\n",
      "File \u001B[1;32m~\\Pycharm Projects\\quantum\\lib\\site-packages\\classiq\\model\\function_handler.py:228\u001B[0m, in \u001B[0;36mFunctionHandler.apply\u001B[1;34m(self, function_name, in_wires, out_wires, is_inverse, strict_zero_ios, release_by_inverse, control_states, should_control, power, call_name, parameters_dict)\u001B[0m\n\u001B[0;32m    225\u001B[0m     function_name \u001B[38;5;241m=\u001B[39m function_data\u001B[38;5;241m.\u001B[39mname\n\u001B[0;32m    227\u001B[0m function_name \u001B[38;5;241m=\u001B[39m cast(\u001B[38;5;28mstr\u001B[39m, function_name)\n\u001B[1;32m--> 228\u001B[0m \u001B[38;5;28;01mreturn\u001B[39;00m \u001B[38;5;28;43mself\u001B[39;49m\u001B[38;5;241;43m.\u001B[39;49m\u001B[43m_add_function_call\u001B[49m\u001B[43m(\u001B[49m\n\u001B[0;32m    229\u001B[0m \u001B[43m    \u001B[49m\u001B[43mfunction_name\u001B[49m\u001B[43m,\u001B[49m\n\u001B[0;32m    230\u001B[0m \u001B[43m    \u001B[49m\u001B[38;5;28;43mself\u001B[39;49m\u001B[38;5;241;43m.\u001B[39;49m\u001B[43m_function_library\u001B[49m\u001B[38;5;241;43m.\u001B[39;49m\u001B[43mget_function\u001B[49m\u001B[43m(\u001B[49m\u001B[43mfunction_name\u001B[49m\u001B[43m)\u001B[49m\u001B[43m,\u001B[49m\u001B[43m  \u001B[49m\u001B[38;5;66;43;03m# type: ignore[union-attr]\u001B[39;49;00m\n\u001B[0;32m    231\u001B[0m \u001B[43m    \u001B[49m\u001B[43min_wires\u001B[49m\u001B[38;5;241;43m=\u001B[39;49m\u001B[43min_wires\u001B[49m\u001B[43m,\u001B[49m\n\u001B[0;32m    232\u001B[0m \u001B[43m    \u001B[49m\u001B[43mout_wires\u001B[49m\u001B[38;5;241;43m=\u001B[39;49m\u001B[43mout_wires\u001B[49m\u001B[43m,\u001B[49m\n\u001B[0;32m    233\u001B[0m \u001B[43m    \u001B[49m\u001B[43mis_inverse\u001B[49m\u001B[38;5;241;43m=\u001B[39;49m\u001B[43mis_inverse\u001B[49m\u001B[43m,\u001B[49m\n\u001B[0;32m    234\u001B[0m \u001B[43m    \u001B[49m\u001B[43mstrict_zero_ios\u001B[49m\u001B[38;5;241;43m=\u001B[39;49m\u001B[43mstrict_zero_ios\u001B[49m\u001B[43m,\u001B[49m\n\u001B[0;32m    235\u001B[0m \u001B[43m    \u001B[49m\u001B[43mrelease_by_inverse\u001B[49m\u001B[38;5;241;43m=\u001B[39;49m\u001B[43mrelease_by_inverse\u001B[49m\u001B[43m,\u001B[49m\n\u001B[0;32m    236\u001B[0m \u001B[43m    \u001B[49m\u001B[43mcontrol_states\u001B[49m\u001B[38;5;241;43m=\u001B[39;49m\u001B[43mcontrol_states\u001B[49m\u001B[43m,\u001B[49m\n\u001B[0;32m    237\u001B[0m \u001B[43m    \u001B[49m\u001B[43mshould_control\u001B[49m\u001B[38;5;241;43m=\u001B[39;49m\u001B[43mshould_control\u001B[49m\u001B[43m,\u001B[49m\n\u001B[0;32m    238\u001B[0m \u001B[43m    \u001B[49m\u001B[43mpower\u001B[49m\u001B[38;5;241;43m=\u001B[39;49m\u001B[43mpower\u001B[49m\u001B[43m,\u001B[49m\n\u001B[0;32m    239\u001B[0m \u001B[43m    \u001B[49m\u001B[43mcall_name\u001B[49m\u001B[38;5;241;43m=\u001B[39;49m\u001B[43mcall_name\u001B[49m\u001B[43m,\u001B[49m\n\u001B[0;32m    240\u001B[0m \u001B[43m    \u001B[49m\u001B[43mparameters_dict\u001B[49m\u001B[38;5;241;43m=\u001B[39;49m\u001B[43mparameters_dict\u001B[49m\u001B[43m,\u001B[49m\n\u001B[0;32m    241\u001B[0m \u001B[43m\u001B[49m\u001B[43m)\u001B[49m\n",
      "File \u001B[1;32m~\\Pycharm Projects\\quantum\\lib\\site-packages\\classiq\\model\\function_handler.py:297\u001B[0m, in \u001B[0;36mFunctionHandler._add_function_call\u001B[1;34m(self, function, params, control_states, in_wires, out_wires, is_inverse, release_by_inverse, should_control, power, call_name, strict_zero_ios, parameters_dict)\u001B[0m\n\u001B[0;32m    284\u001B[0m call \u001B[38;5;241m=\u001B[39m SynthesisQuantumFunctionCall(\n\u001B[0;32m    285\u001B[0m     function\u001B[38;5;241m=\u001B[39mfunction,\n\u001B[0;32m    286\u001B[0m     function_params\u001B[38;5;241m=\u001B[39mparams,\n\u001B[1;32m   (...)\u001B[0m\n\u001B[0;32m    293\u001B[0m     name\u001B[38;5;241m=\u001B[39mcall_name,\n\u001B[0;32m    294\u001B[0m )\n\u001B[0;32m    296\u001B[0m \u001B[38;5;28;01mif\u001B[39;00m in_wires \u001B[38;5;129;01mis\u001B[39;00m \u001B[38;5;129;01mnot\u001B[39;00m \u001B[38;5;28;01mNone\u001B[39;00m:\n\u001B[1;32m--> 297\u001B[0m     \u001B[38;5;28;43mself\u001B[39;49m\u001B[38;5;241;43m.\u001B[39;49m\u001B[43m_connect_in_qregs\u001B[49m\u001B[43m(\u001B[49m\u001B[43mcall\u001B[49m\u001B[38;5;241;43m=\u001B[39;49m\u001B[43mcall\u001B[49m\u001B[43m,\u001B[49m\u001B[43m \u001B[49m\u001B[43min_wires\u001B[49m\u001B[38;5;241;43m=\u001B[39;49m\u001B[43min_wires\u001B[49m\u001B[43m)\u001B[49m\n\u001B[0;32m    299\u001B[0m \u001B[38;5;28mself\u001B[39m\u001B[38;5;241m.\u001B[39m_body\u001B[38;5;241m.\u001B[39mappend(call)\n\u001B[0;32m    301\u001B[0m \u001B[38;5;28;01mreturn\u001B[39;00m \u001B[38;5;28mself\u001B[39m\u001B[38;5;241m.\u001B[39m_connect_out_qregs(call\u001B[38;5;241m=\u001B[39mcall, out_wires\u001B[38;5;241m=\u001B[39mout_wires \u001B[38;5;129;01mor\u001B[39;00m {})\n",
      "File \u001B[1;32m~\\Pycharm Projects\\quantum\\lib\\site-packages\\classiq\\model\\function_handler.py:309\u001B[0m, in \u001B[0;36mFunctionHandler._connect_in_qregs\u001B[1;34m(self, call, in_wires)\u001B[0m\n\u001B[0;32m    303\u001B[0m \u001B[38;5;28;01mdef\u001B[39;00m \u001B[38;5;21m_connect_in_qregs\u001B[39m(\n\u001B[0;32m    304\u001B[0m     \u001B[38;5;28mself\u001B[39m,\n\u001B[0;32m    305\u001B[0m     call: SynthesisQuantumFunctionCall,\n\u001B[0;32m    306\u001B[0m     in_wires: SupportedInputArgs,\n\u001B[0;32m    307\u001B[0m ) \u001B[38;5;241m-\u001B[39m\u001B[38;5;241m>\u001B[39m \u001B[38;5;28;01mNone\u001B[39;00m:\n\u001B[0;32m    308\u001B[0m     \u001B[38;5;28;01mif\u001B[39;00m \u001B[38;5;28misinstance\u001B[39m(in_wires, \u001B[38;5;28mdict\u001B[39m):\n\u001B[1;32m--> 309\u001B[0m         \u001B[38;5;28;43mself\u001B[39;49m\u001B[38;5;241;43m.\u001B[39;49m\u001B[43m_connect_named_in_qregs\u001B[49m\u001B[43m(\u001B[49m\u001B[43mcall\u001B[49m\u001B[38;5;241;43m=\u001B[39;49m\u001B[43mcall\u001B[49m\u001B[43m,\u001B[49m\u001B[43m \u001B[49m\u001B[43min_wires\u001B[49m\u001B[38;5;241;43m=\u001B[39;49m\u001B[43min_wires\u001B[49m\u001B[43m)\u001B[49m\n\u001B[0;32m    310\u001B[0m     \u001B[38;5;28;01melif\u001B[39;00m \u001B[38;5;28misinstance\u001B[39m(in_wires, QReg):\n\u001B[0;32m    311\u001B[0m         \u001B[38;5;28mself\u001B[39m\u001B[38;5;241m.\u001B[39m_connect_unnamed_in_qregs(call\u001B[38;5;241m=\u001B[39mcall, in_wires\u001B[38;5;241m=\u001B[39m[in_wires])\n",
      "File \u001B[1;32m~\\Pycharm Projects\\quantum\\lib\\site-packages\\classiq\\model\\function_handler.py:337\u001B[0m, in \u001B[0;36mFunctionHandler._connect_named_in_qregs\u001B[1;34m(self, call, in_wires)\u001B[0m\n\u001B[0;32m    331\u001B[0m \u001B[38;5;28;01mdef\u001B[39;00m \u001B[38;5;21m_connect_named_in_qregs\u001B[39m(\n\u001B[0;32m    332\u001B[0m     \u001B[38;5;28mself\u001B[39m,\n\u001B[0;32m    333\u001B[0m     call: SynthesisQuantumFunctionCall,\n\u001B[0;32m    334\u001B[0m     in_wires: Dict[IOName, QReg],\n\u001B[0;32m    335\u001B[0m ) \u001B[38;5;241m-\u001B[39m\u001B[38;5;241m>\u001B[39m \u001B[38;5;28;01mNone\u001B[39;00m:\n\u001B[0;32m    336\u001B[0m     \u001B[38;5;28;01mfor\u001B[39;00m input_name, in_qreg \u001B[38;5;129;01min\u001B[39;00m in_wires\u001B[38;5;241m.\u001B[39mitems():\n\u001B[1;32m--> 337\u001B[0m         pin_name, pin_indices \u001B[38;5;241m=\u001B[39m \u001B[38;5;28;43mself\u001B[39;49m\u001B[38;5;241;43m.\u001B[39;49m\u001B[43m_get_pin_name_and_indices\u001B[49m\u001B[43m(\u001B[49m\u001B[43minput_name\u001B[49m\u001B[43m,\u001B[49m\u001B[43m \u001B[49m\u001B[43mcall\u001B[49m\u001B[43m)\u001B[49m\n\u001B[0;32m    338\u001B[0m         \u001B[38;5;28;01mif\u001B[39;00m \u001B[38;5;28mlen\u001B[39m(in_qreg) \u001B[38;5;241m!=\u001B[39m \u001B[38;5;28mlen\u001B[39m(pin_indices):\n\u001B[0;32m    339\u001B[0m             \u001B[38;5;28;01mraise\u001B[39;00m ClassiqWiringError(\n\u001B[0;32m    340\u001B[0m                 \u001B[38;5;124mf\u001B[39m\u001B[38;5;124m\"\u001B[39m\u001B[38;5;124mIncorrect size of input QReg: expected \u001B[39m\u001B[38;5;132;01m{\u001B[39;00m\u001B[38;5;28mlen\u001B[39m(pin_indices)\u001B[38;5;132;01m}\u001B[39;00m\u001B[38;5;124m, actual \u001B[39m\u001B[38;5;132;01m{\u001B[39;00m\u001B[38;5;28mlen\u001B[39m(in_qreg)\u001B[38;5;132;01m}\u001B[39;00m\u001B[38;5;124m\"\u001B[39m\n\u001B[0;32m    341\u001B[0m             )\n",
      "File \u001B[1;32m~\\Pycharm Projects\\quantum\\lib\\site-packages\\classiq\\model\\function_handler.py:359\u001B[0m, in \u001B[0;36mFunctionHandler._get_pin_name_and_indices\u001B[1;34m(input_name, call)\u001B[0m\n\u001B[0;32m    357\u001B[0m pin_info \u001B[38;5;241m=\u001B[39m call\u001B[38;5;241m.\u001B[39minput_regs_dict\u001B[38;5;241m.\u001B[39mget(name)\n\u001B[0;32m    358\u001B[0m \u001B[38;5;28;01mif\u001B[39;00m pin_info \u001B[38;5;129;01mis\u001B[39;00m \u001B[38;5;28;01mNone\u001B[39;00m:\n\u001B[1;32m--> 359\u001B[0m     \u001B[38;5;28;01mraise\u001B[39;00m ClassiqWiringError(\n\u001B[0;32m    360\u001B[0m         \u001B[38;5;124mf\u001B[39m\u001B[38;5;124m\"\u001B[39m\u001B[38;5;124mNo register size information on input pin \u001B[39m\u001B[38;5;132;01m{\u001B[39;00mname\u001B[38;5;132;01m}\u001B[39;00m\u001B[38;5;124m\"\u001B[39m\n\u001B[0;32m    361\u001B[0m     )\n\u001B[0;32m    362\u001B[0m indices \u001B[38;5;241m=\u001B[39m \u001B[38;5;28mrange\u001B[39m(pin_info\u001B[38;5;241m.\u001B[39msize)[slicing]\n\u001B[0;32m    363\u001B[0m \u001B[38;5;28;01mreturn\u001B[39;00m name, indices\n",
      "\u001B[1;31mClassiqWiringError\u001B[0m: No register size information on input pin min\nIf you need further assistance, please reach out on our Community Slack channel at: https://short.classiq.io/join-slack\nIf the error persists feel free to open a ticket at: https://short.classiq.io/support"
     ]
    }
   ],
   "source": [
    "composite_function = function_generator.to_function_definition()\n",
    "function_library = FunctionLibrary(composite_function)\n",
    "\n",
    "probabilities = (0.5, 0.1, 0.2, 0.005, 0.015, 0.12, 0.035, 0.025)\n",
    "sp_params = StatePreparation(probabilities=probabilities)\n",
    "\n",
    "model = Model()\n",
    "model.include_library(function_library)\n",
    "sp_outputs = model.StatePreparation(sp_params)\n",
    "\n",
    "model.my_subtractor_function(in_wires={\"input_arg_1\": sp_outputs[\"OUT\"]})\n",
    "\n",
    "quantum_program = synthesize(model.get_model())\n",
    "show(quantum_program)"
   ],
   "metadata": {
    "collapsed": false
   }
  },
  {
   "cell_type": "code",
   "execution_count": null,
   "outputs": [],
   "source": [],
   "metadata": {
    "collapsed": false
   }
  }
 ],
 "metadata": {
  "kernelspec": {
   "display_name": "Python 3",
   "language": "python",
   "name": "python3"
  },
  "language_info": {
   "codemirror_mode": {
    "name": "ipython",
    "version": 2
   },
   "file_extension": ".py",
   "mimetype": "text/x-python",
   "name": "python",
   "nbconvert_exporter": "python",
   "pygments_lexer": "ipython2",
   "version": "2.7.6"
  }
 },
 "nbformat": 4,
 "nbformat_minor": 0
}
