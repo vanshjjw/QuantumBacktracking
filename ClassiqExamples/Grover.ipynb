{
 "cells": [
  {
   "cell_type": "code",
   "execution_count": 62,
   "metadata": {
    "collapsed": true
   },
   "outputs": [],
   "source": [
    "from classiq import (\n",
    "    Model,\n",
    "    RegisterUserInput,\n",
    "    FunctionLibrary,\n",
    "    QASM_INTRO,\n",
    "    qfunc,\n",
    "    QReg,\n",
    ")\n",
    "from classiq.builtin_functions import ArithmeticOracle, GroverOperator, CustomOracle\n",
    "from classiq import synthesize, show"
   ]
  },
  {
   "cell_type": "code",
   "execution_count": 63,
   "outputs": [],
   "source": [
    "@qfunc\n",
    "def my_state_preparation(args: QReg[18]) -> QReg[18]:\n",
    "    return QASM_INTRO + \"qreg q[18];\"\n",
    "\n",
    "@qfunc\n",
    "def my_oracle(args: QReg[18]) -> QReg[18]:\n",
    "    return QASM_INTRO + \"qreg q[18];\"\n",
    "\n",
    "my_function_library = FunctionLibrary(my_state_preparation, my_oracle)"
   ],
   "metadata": {
    "collapsed": false
   }
  },
  {
   "cell_type": "code",
   "execution_count": 64,
   "outputs": [],
   "source": [
    "old_oracle_params = ArithmeticOracle(\n",
    "    expression=\"(a + b + (c & 6)) % 4 | 4 & c  == 4\",\n",
    "    definitions=dict(\n",
    "        a=RegisterUserInput(size=2),\n",
    "        b=RegisterUserInput(size=2),\n",
    "        c=RegisterUserInput(size=3),\n",
    "    ),\n",
    "    uncomputation_method=\"optimized\",\n",
    "    qubit_count=16,\n",
    ")"
   ],
   "metadata": {
    "collapsed": false
   }
  },
  {
   "cell_type": "code",
   "execution_count": 66,
   "outputs": [],
   "source": [
    "new_oracle_params = CustomOracle(\n",
    "    custom_oracle= \"my_oracle\",\n",
    "    custom_oracle_params= my_function_library.get_function(\"my_oracle\"),\n",
    ")"
   ],
   "metadata": {
    "collapsed": false
   }
  },
  {
   "cell_type": "code",
   "execution_count": 67,
   "outputs": [],
   "source": [
    "grover_params = GroverOperator(\n",
    "    oracle_params= new_oracle_params,\n",
    "    state_preparation = \"my_state_preparation\",\n",
    "    state_preparation_params = my_function_library.get_function(\"my_state_preparation\"),\n",
    ")"
   ],
   "metadata": {
    "collapsed": false
   }
  },
  {
   "cell_type": "code",
   "execution_count": 68,
   "outputs": [
    {
     "name": "stdout",
     "output_type": "stream",
     "text": [
      "Opening: https://platform.classiq.io/circuit/7eed4bd8-cc72-4c6b-bd8d-a7d56838ee30?version=0.33.0\n"
     ]
    }
   ],
   "source": [
    "model = Model()\n",
    "model.include_library(my_function_library)\n",
    "model.GroverOperator(grover_params)\n",
    "model = model.get_model()\n",
    "\n",
    "quantum_program = synthesize(model)\n",
    "show(quantum_program)"
   ],
   "metadata": {
    "collapsed": false
   }
  },
  {
   "cell_type": "code",
   "execution_count": null,
   "outputs": [],
   "source": [],
   "metadata": {
    "collapsed": false
   }
  }
 ],
 "metadata": {
  "kernelspec": {
   "display_name": "Python 3",
   "language": "python",
   "name": "python3"
  },
  "language_info": {
   "codemirror_mode": {
    "name": "ipython",
    "version": 2
   },
   "file_extension": ".py",
   "mimetype": "text/x-python",
   "name": "python",
   "nbconvert_exporter": "python",
   "pygments_lexer": "ipython2",
   "version": "2.7.6"
  }
 },
 "nbformat": 4,
 "nbformat_minor": 0
}
