{
 "cells": [
  {
   "cell_type": "code",
   "execution_count": 19,
   "outputs": [],
   "source": [
    "import matplotlib\n",
    "matplotlib.use('TkAgg')"
   ],
   "metadata": {
    "collapsed": false
   }
  },
  {
   "cell_type": "code",
   "execution_count": 20,
   "outputs": [],
   "source": [
    "from classiq import Model, execute, show, synthesize\n",
    "from classiq.builtin_functions import StatePreparation\n",
    "from classiq.execution import ClassiqBackendPreferences, ExecutionPreferences\n",
    "from classiq.synthesis import set_execution_preferences"
   ],
   "metadata": {
    "collapsed": false
   }
  },
  {
   "cell_type": "code",
   "execution_count": 21,
   "outputs": [],
   "source": [
    "# 3X3 board with 2 qubits for each cell\n",
    "# possible values are 1, 2, 3 and 0 represents empty\n",
    "\n",
    "probability_free_cells = [1, 0, 0, 0]\n",
    "probability_clue = [0, 0, 0, 1] # clue is 3\n",
    "\n",
    "sp_free = StatePreparation(\n",
    "    probabilities=probability_free_cells, error_metric={\"KL\": {\"upper_bound\": 0.01}}\n",
    ")\n",
    "sp_clue = StatePreparation(\n",
    "    probabilities=probability_clue, error_metric={\"KL\": {\"upper_bound\": 0.01}}\n",
    ")\n",
    "\n",
    "myModel = Model()"
   ],
   "metadata": {
    "collapsed": false
   }
  },
  {
   "cell_type": "code",
   "execution_count": 22,
   "outputs": [],
   "source": [
    "# references[i] holds wire for the i-th cell\n",
    "\n",
    "references = [myModel.StatePreparation(params=sp_clue)]\n",
    "for i in range(1, 9):\n",
    "    references.append(myModel.StatePreparation(params=sp_free))"
   ],
   "metadata": {
    "collapsed": false
   }
  },
  {
   "cell_type": "code",
   "execution_count": 31,
   "outputs": [],
   "source": [
    "myModel.sample()"
   ],
   "metadata": {
    "collapsed": false
   }
  },
  {
   "cell_type": "code",
   "execution_count": 32,
   "outputs": [],
   "source": [
    "backend_preferences = ClassiqBackendPreferences(\n",
    "    backend_name=\"aer_simulator_statevector\"\n",
    ")\n",
    "\n",
    "serialized_model = myModel.get_model()\n",
    "execution_preferences = ExecutionPreferences(num_shots=1000, backend_preferences=backend_preferences)\n",
    "serialized_model = set_execution_preferences(serialized_model, execution_preferences=execution_preferences)"
   ],
   "metadata": {
    "collapsed": false
   }
  },
  {
   "cell_type": "code",
   "execution_count": null,
   "outputs": [],
   "source": [
    "myProgram = synthesize(myModel.get_model())\n",
    "show(myProgram)"
   ],
   "metadata": {
    "collapsed": false,
    "pycharm": {
     "is_executing": true
    }
   }
  },
  {
   "cell_type": "code",
   "execution_count": 34,
   "outputs": [],
   "source": [
    "results_raw = execute(myProgram).result()\n",
    "results_1 = results_raw[0].value"
   ],
   "metadata": {
    "collapsed": false
   }
  }
 ],
 "metadata": {
  "kernelspec": {
   "display_name": "Python 3",
   "language": "python",
   "name": "python3"
  },
  "language_info": {
   "codemirror_mode": {
    "name": "ipython",
    "version": 2
   },
   "file_extension": ".py",
   "mimetype": "text/x-python",
   "name": "python",
   "nbconvert_exporter": "python",
   "pygments_lexer": "ipython2",
   "version": "2.7.6"
  }
 },
 "nbformat": 4,
 "nbformat_minor": 0
}
