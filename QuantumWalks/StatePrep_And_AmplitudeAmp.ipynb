{
 "cells": [
  {
   "cell_type": "code",
   "execution_count": 150,
   "metadata": {
    "collapsed": true
   },
   "outputs": [],
   "source": [
    "from classiq import (\n",
    "    Model,\n",
    "    RegisterUserInput,\n",
    "    FunctionLibrary,\n",
    "    FunctionGenerator,\n",
    "    RegisterUserInput,\n",
    "    QASM_INTRO,\n",
    "    qfunc,\n",
    "    QReg,\n",
    "    QUInt,\n",
    ")\n",
    "from classiq.builtin_functions import ArithmeticOracle, GroverOperator, CustomOracle, StatePreparation\n",
    "from classiq import execute, show, synthesize\n",
    "from classiq.execution import ClassiqBackendPreferences, ExecutionPreferences\n",
    "from classiq.interface.generator.state_preparation import ComputationalBasisStatePreparation\n",
    "from classiq.synthesis import set_execution_preferences"
   ]
  },
  {
   "cell_type": "code",
   "execution_count": 151,
   "outputs": [],
   "source": [
    "# probability_free_cells = [1, 0, 0, 0]\n",
    "# probability_clue = [0, 0, 0, 1]\n",
    "#\n",
    "# clue_preparation_params = StatePreparation(probabilities=probability_clue)\n",
    "# free_preparation_params = StatePreparation(probabilities=probability_free_cells)\n",
    "\n",
    "# register_references = [m.StatePreparation(params=clue_preparation_params)]\n",
    "# for i in range(1, 9):\n",
    "#     register_references.append(m.StatePreparation(params=free_preparation_params))"
   ],
   "metadata": {
    "collapsed": false
   }
  },
  {
   "cell_type": "code",
   "execution_count": 159,
   "outputs": [],
   "source": [
    "@qfunc\n",
    "def my_state_preparation_1(args: QReg[18]) -> QReg[18]:\n",
    "    state = \"qreg q[18];\\n\"\n",
    "    # prepare current node\n",
    "    state += f\"h q[3];\\n\"\n",
    "    # prepare next node\n",
    "    state += \"h q[4];\\nh q[5];\"\n",
    "    return QASM_INTRO + state\n",
    "\n",
    "@qfunc\n",
    "def my_state_preparation_2(args_2: QReg[18]) -> QReg[18]:\n",
    "    state = \"qreg q[18];\\n\"\n",
    "    # prepare current node\n",
    "    state += f\"h q[3];\\n\"\n",
    "    # prepare next node\n",
    "    state += \"h q[6];\\nh q[7];\"\n",
    "    return QASM_INTRO + state\n",
    "\n",
    "\n",
    "@qfunc\n",
    "def my_oracle(args: QReg[18]) -> QReg[18]:\n",
    "    return QASM_INTRO + \"qreg q[18];\"\n",
    "\n",
    "my_function_library = FunctionLibrary(my_state_preparation_1, my_oracle, my_state_preparation_2)"
   ],
   "metadata": {
    "collapsed": false
   }
  },
  {
   "cell_type": "code",
   "execution_count": 160,
   "outputs": [],
   "source": [
    "new_oracle_params = CustomOracle(\n",
    "    custom_oracle= \"my_oracle\",\n",
    "    custom_oracle_params= my_function_library.get_function(\"my_oracle\"),\n",
    ")"
   ],
   "metadata": {
    "collapsed": false
   }
  },
  {
   "cell_type": "code",
   "execution_count": 161,
   "outputs": [],
   "source": [
    "grover_params_1 = GroverOperator(\n",
    "    args=QReg[18],\n",
    "    oracle_params=new_oracle_params,\n",
    "    state_preparation=\"my_state_preparation_1\",\n",
    "    state_preparation_params=my_function_library.get_function(\"my_state_preparation_1\"),\n",
    ")\n",
    "\n",
    "grover_params_2 = GroverOperator(\n",
    "    args=QReg[18],\n",
    "    oracle_params=new_oracle_params,\n",
    "    state_preparation=\"my_state_preparation_2\",\n",
    "    state_preparation_params=my_function_library.get_function(\"my_state_preparation_2\"),\n",
    ")"
   ],
   "metadata": {
    "collapsed": false
   }
  },
  {
   "cell_type": "code",
   "execution_count": 162,
   "outputs": [],
   "source": [
    "model = Model()\n",
    "model.include_library(my_function_library)"
   ],
   "metadata": {
    "collapsed": false
   }
  },
  {
   "cell_type": "code",
   "execution_count": 164,
   "outputs": [],
   "source": [
    "initial_state = \"110000000000000000\" # First cell is 3, everything else is 0\n",
    "\n",
    "# prepare the board\n",
    "clue_preparation_params = ComputationalBasisStatePreparation(computational_state=initial_state)\n",
    "prepared_board = model.ComputationalBasisStatePreparation(params=clue_preparation_params)\n",
    "\n",
    "# prepare the 2 diffusion operators\n",
    "grover_1 = model.GroverOperator(grover_params_1, in_wires={\"args\": prepared_board['OUT']})\n",
    "grover_2 = model.GroverOperator(grover_params_2, in_wires={\"args\": grover_1['args']})"
   ],
   "metadata": {
    "collapsed": false
   }
  },
  {
   "cell_type": "code",
   "execution_count": 165,
   "outputs": [
    {
     "name": "stdout",
     "output_type": "stream",
     "text": [
      "Opening: https://platform.classiq.io/circuit/e74a6f97-e338-436c-bf8d-a0bbe0820044?version=0.34.0\n"
     ]
    }
   ],
   "source": [
    "quantum_program = synthesize(model.get_model())\n",
    "show(quantum_program)"
   ],
   "metadata": {
    "collapsed": false
   }
  },
  {
   "cell_type": "code",
   "execution_count": null,
   "outputs": [],
   "source": [],
   "metadata": {
    "collapsed": false
   }
  }
 ],
 "metadata": {
  "kernelspec": {
   "display_name": "Python 3",
   "language": "python",
   "name": "python3"
  },
  "language_info": {
   "codemirror_mode": {
    "name": "ipython",
    "version": 2
   },
   "file_extension": ".py",
   "mimetype": "text/x-python",
   "name": "python",
   "nbconvert_exporter": "python",
   "pygments_lexer": "ipython2",
   "version": "2.7.6"
  }
 },
 "nbformat": 4,
 "nbformat_minor": 0
}
