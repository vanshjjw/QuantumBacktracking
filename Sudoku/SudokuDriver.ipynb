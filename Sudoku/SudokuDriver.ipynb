{
 "cells": [
  {
   "cell_type": "code",
   "execution_count": null,
   "metadata": {
    "collapsed": true,
    "pycharm": {
     "name": "#%%\n"
    }
   },
   "outputs": [],
   "source": [
    "import numpy as np\n",
    "import SudokuSolver\n",
    "\n",
    "\n",
    "def stringToBoard(puzzle, boardSize):\n",
    "    board = np.zeros((boardSize, boardSize))\n",
    "    for i in range(0, len(puzzle)):\n",
    "        if puzzle[i].isdigit():\n",
    "            board[i // boardSize][i % boardSize] = int(puzzle[i])\n",
    "    return board\n",
    "\n",
    "\n",
    "# open sample file as string\n",
    "with open('sudoku_samples.txt', 'r') as f:\n",
    "    sudokuSamples = f.read()\n",
    "    for samples in sudokuSamples.splitlines():\n",
    "\n",
    "        initialBoard, numberOfSolutions, *solution = samples.split(':')\n",
    "        boardSize = int(len(initialBoard) ** 0.5)\n",
    "        Board = stringToBoard(initialBoard, boardSize)\n",
    "\n",
    "        print(\"Solving:\", initialBoard, \" expecting \", numberOfSolutions, \" solutions\", end=\"...\")\n",
    "\n",
    "        if SudokuSolver.sudokuSolver(Board):\n",
    "            print(\"Solution found!\", end=\"...\")\n",
    "            if numberOfSolutions == '1':\n",
    "                knownSolution = stringToBoard(solution[0], boardSize)\n",
    "                if np.array_equal(Board, knownSolution):\n",
    "                    print(\"Correct Solution\")\n",
    "                else:\n",
    "                    print(\"Incorrect Solution\")\n",
    "            else:\n",
    "                print(numberOfSolutions, \" solutions were expected\")"
   ]
  }
 ],
 "metadata": {
  "kernelspec": {
   "display_name": "Python 3",
   "language": "python",
   "name": "python3"
  },
  "language_info": {
   "codemirror_mode": {
    "name": "ipython",
    "version": 2
   },
   "file_extension": ".py",
   "mimetype": "text/x-python",
   "name": "python",
   "nbconvert_exporter": "python",
   "pygments_lexer": "ipython2",
   "version": "2.7.6"
  }
 },
 "nbformat": 4,
 "nbformat_minor": 0
}