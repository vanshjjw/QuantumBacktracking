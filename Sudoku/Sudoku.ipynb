{
 "cells": [
  {
   "cell_type": "code",
   "execution_count": 2,
   "metadata": {
    "collapsed": true,
    "pycharm": {
     "name": "#%%\n"
    }
   },
   "outputs": [],
   "source": [
    "def validBoard(board, num, pos):\n",
    "    size = len(board)\n",
    "    sizeOfBox = int(size ** 0.5)\n",
    "\n",
    "    # check row\n",
    "    for i in range(len(board[0])):\n",
    "        if board[pos[0]][i] == num and pos[1] != i:\n",
    "            return False\n",
    "    # check column\n",
    "    for i in range(len(board)):\n",
    "        if board[i][pos[1]] == num and pos[0] != i:\n",
    "            return False\n",
    "\n",
    "    # Check box\n",
    "    box_x = pos[1] // sizeOfBox  # Get x coordinate of box\n",
    "    box_y = pos[0] // sizeOfBox  # Get y coordinate of box\n",
    "    for i in range(box_y * sizeOfBox, box_y * sizeOfBox + sizeOfBox):\n",
    "        for j in range(box_x * 3, box_x * 3 + 3):\n",
    "            if board[i][j] == num and (i, j) != pos:\n",
    "                return False\n",
    "\n",
    "    return True"
   ]
  },
  {
   "cell_type": "code",
   "execution_count": 3,
   "outputs": [],
   "source": [
    "# heuristic is just finding the first empty square\n",
    "def heuristic(board):\n",
    "    for i in range(len(board)):\n",
    "        for j in range(len(board[0])):\n",
    "            if board[i][j] == 0:\n",
    "                return i, j\n",
    "    return None\n"
   ],
   "metadata": {
    "collapsed": false,
    "pycharm": {
     "name": "#%%\n"
    }
   }
  },
  {
   "cell_type": "code",
   "execution_count": 4,
   "outputs": [],
   "source": [
    "def printBoard(board):\n",
    "    sizeOfBox = int(len(board) ** 0.5)\n",
    "    for i in range(len(board)):\n",
    "        if i % sizeOfBox == 0 and i != 0:\n",
    "            prin\n",
    "            t(\"-----------------------\")\n",
    "        for j in range(len(board[0])):\n",
    "            if j % sizeOfBox == 0 and j != 0:\n",
    "                print(\"|\", end=\" \")\n",
    "            if j == 8:\n",
    "                print(board[i][j])\n",
    "            else:\n",
    "                print(str(board[i][j]) + \" \", end=\" \")"
   ],
   "metadata": {
    "collapsed": false,
    "pycharm": {
     "name": "#%%\n"
    }
   }
  },
  {
   "cell_type": "code",
   "execution_count": 5,
   "outputs": [],
   "source": [
    "def sudokuSolver(board):\n",
    "    findPosition = heuristic(board)\n",
    "    if not findPosition:\n",
    "        return True\n",
    "    else:\n",
    "        row, col = findPosition\n",
    "\n",
    "    # Try numbers 1-9 serially (can be optimized)\n",
    "    for i in range(1, 10):\n",
    "        if validBoard(board, i, (row, col)):\n",
    "            board[row][col] = i\n",
    "            if sudokuSolver(board):\n",
    "                return True\n",
    "            board[row][col] = 0\n",
    "\n",
    "    return False"
   ],
   "metadata": {
    "collapsed": false,
    "pycharm": {
     "name": "#%%\n"
    }
   }
  },
  {
   "cell_type": "code",
   "execution_count": null,
   "outputs": [],
   "source": [],
   "metadata": {
    "collapsed": false,
    "pycharm": {
     "name": "#%%\n"
    }
   }
  }
 ],
 "metadata": {
  "kernelspec": {
   "display_name": "Python 3",
   "language": "python",
   "name": "python3"
  },
  "language_info": {
   "codemirror_mode": {
    "name": "ipython",
    "version": 2
   },
   "file_extension": ".py",
   "mimetype": "text/x-python",
   "name": "python",
   "nbconvert_exporter": "python",
   "pygments_lexer": "ipython2",
   "version": "2.7.6"
  }
 },
 "nbformat": 4,
 "nbformat_minor": 0
}