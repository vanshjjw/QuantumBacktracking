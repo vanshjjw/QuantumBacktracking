{
 "cells": [
  {
   "cell_type": "code",
   "execution_count": 5,
   "metadata": {
    "collapsed": true,
    "pycharm": {
     "name": "#%%\n"
    }
   },
   "outputs": [],
   "source": [
    "import networkx as nx\n",
    "import numpy as np\n",
    "import pyomo.environ as pyo\n",
    "import matplotlib\n",
    "matplotlib.use('TkAgg')"
   ]
  },
  {
   "cell_type": "code",
   "execution_count": 6,
   "outputs": [],
   "source": [
    "def define_min_graph_coloring_model(graph, max_num_colors):\n",
    "    model = pyo.ConcreteModel()\n",
    "\n",
    "    nodes = list(graph.nodes())\n",
    "    colors = range(0, max_num_colors)\n",
    "\n",
    "    model.x = pyo.Var(colors, nodes, domain=pyo.Binary)\n",
    "\n",
    "    x_variables = np.array(list(model.x.values()))\n",
    "\n",
    "    adjacency_matrix = nx.convert_matrix.to_numpy_array(graph, nonedge=0)\n",
    "    adjacency_matrix_block_diagonal = np.kron(np.eye(degree_max), adjacency_matrix)\n",
    "\n",
    "    model.conflicting_color_constraint = pyo.Constraint(\n",
    "        expr=x_variables @ adjacency_matrix_block_diagonal @ x_variables == 0\n",
    "    )\n",
    "\n",
    "    @model.Constraint(nodes)\n",
    "    def each_vertex_is_colored(model, node):\n",
    "        return sum(model.x[color, node] for color in colors) == 1\n",
    "\n",
    "    def is_color_used(color):\n",
    "        is_color_not_used = np.prod([(1 - model.x[color, node]) for node in nodes])\n",
    "        return 1 - is_color_not_used\n",
    "\n",
    "    # minimize the number of colors in use\n",
    "    model.value = pyo.Objective(\n",
    "        expr=sum(is_color_used(color) for color in colors), sense=pyo.minimize\n",
    "    )\n",
    "\n",
    "    return model\n"
   ],
   "metadata": {
    "collapsed": false,
    "pycharm": {
     "name": "#%%\n"
    }
   }
  },
  {
   "cell_type": "code",
   "execution_count": 7,
   "outputs": [
    {
     "name": "stdout",
     "output_type": "stream",
     "text": [
      "4 Set Declarations\n",
      "    each_vertex_is_colored_index : Size=1, Index=None, Ordered=Insertion\n",
      "        Key  : Dimen : Domain : Size : Members\n",
      "        None :     1 :    Any :    5 : {0, 1, 2, 3, 4}\n",
      "    x_index : Size=1, Index=None, Ordered=True\n",
      "        Key  : Dimen : Domain              : Size : Members\n",
      "        None :     2 : x_index_0*x_index_1 :   15 : {(0, 0), (0, 1), (0, 2), (0, 3), (0, 4), (1, 0), (1, 1), (1, 2), (1, 3), (1, 4), (2, 0), (2, 1), (2, 2), (2, 3), (2, 4)}\n",
      "    x_index_0 : Size=1, Index=None, Ordered=Insertion\n",
      "        Key  : Dimen : Domain : Size : Members\n",
      "        None :     1 :    Any :    3 : {0, 1, 2}\n",
      "    x_index_1 : Size=1, Index=None, Ordered=Insertion\n",
      "        Key  : Dimen : Domain : Size : Members\n",
      "        None :     1 :    Any :    5 : {0, 1, 2, 3, 4}\n",
      "\n",
      "1 Var Declarations\n",
      "    x : Size=15, Index=x_index\n",
      "        Key    : Lower : Value : Upper : Fixed : Stale : Domain\n",
      "        (0, 0) :     0 :  None :     1 : False :  True : Binary\n",
      "        (0, 1) :     0 :  None :     1 : False :  True : Binary\n",
      "        (0, 2) :     0 :  None :     1 : False :  True : Binary\n",
      "        (0, 3) :     0 :  None :     1 : False :  True : Binary\n",
      "        (0, 4) :     0 :  None :     1 : False :  True : Binary\n",
      "        (1, 0) :     0 :  None :     1 : False :  True : Binary\n",
      "        (1, 1) :     0 :  None :     1 : False :  True : Binary\n",
      "        (1, 2) :     0 :  None :     1 : False :  True : Binary\n",
      "        (1, 3) :     0 :  None :     1 : False :  True : Binary\n",
      "        (1, 4) :     0 :  None :     1 : False :  True : Binary\n",
      "        (2, 0) :     0 :  None :     1 : False :  True : Binary\n",
      "        (2, 1) :     0 :  None :     1 : False :  True : Binary\n",
      "        (2, 2) :     0 :  None :     1 : False :  True : Binary\n",
      "        (2, 3) :     0 :  None :     1 : False :  True : Binary\n",
      "        (2, 4) :     0 :  None :     1 : False :  True : Binary\n",
      "\n",
      "1 Objective Declarations\n",
      "    value : Size=1, Index=None, Active=True\n",
      "        Key  : Active : Sense    : Expression\n",
      "        None :   True : minimize : 1 - (1 - x[0,0])*(1 - x[0,1])*(1 - x[0,2])*(1 - x[0,3])*(1 - x[0,4]) + 1 - (1 - x[1,0])*(1 - x[1,1])*(1 - x[1,2])*(1 - x[1,3])*(1 - x[1,4]) + 1 - (1 - x[2,0])*(1 - x[2,1])*(1 - x[2,2])*(1 - x[2,3])*(1 - x[2,4])\n",
      "\n",
      "2 Constraint Declarations\n",
      "    conflicting_color_constraint : Size=1, Index=None, Active=True\n",
      "        Key  : Lower : Body                                                                                                                                                                                                                                                                                                                                                                                                   : Upper : Active\n",
      "        None :   0.0 : (x[0,1] + x[0,3] + x[0,4])*x[0,0] + (x[0,0] + x[0,3])*x[0,1] + x[0,3]*x[0,2] + (x[0,0] + x[0,1] + x[0,2])*x[0,3] + x[0,0]*x[0,4] + (x[1,1] + x[1,3] + x[1,4])*x[1,0] + (x[1,0] + x[1,3])*x[1,1] + x[1,3]*x[1,2] + (x[1,0] + x[1,1] + x[1,2])*x[1,3] + x[1,0]*x[1,4] + (x[2,1] + x[2,3] + x[2,4])*x[2,0] + (x[2,0] + x[2,3])*x[2,1] + x[2,3]*x[2,2] + (x[2,0] + x[2,1] + x[2,2])*x[2,3] + x[2,0]*x[2,4] :   0.0 :   True\n",
      "    each_vertex_is_colored : Size=5, Index=each_vertex_is_colored_index, Active=True\n",
      "        Key : Lower : Body                     : Upper : Active\n",
      "          0 :   1.0 : x[0,0] + x[1,0] + x[2,0] :   1.0 :   True\n",
      "          1 :   1.0 : x[0,1] + x[1,1] + x[2,1] :   1.0 :   True\n",
      "          2 :   1.0 : x[0,2] + x[1,2] + x[2,2] :   1.0 :   True\n",
      "          3 :   1.0 : x[0,3] + x[1,3] + x[2,3] :   1.0 :   True\n",
      "          4 :   1.0 : x[0,4] + x[1,4] + x[2,4] :   1.0 :   True\n",
      "\n",
      "8 Declarations: x_index_0 x_index_1 x_index x conflicting_color_constraint each_vertex_is_colored_index each_vertex_is_colored value\n"
     ]
    }
   ],
   "source": [
    "graph = nx.erdos_renyi_graph(5, 0.3, seed=79)\n",
    "nx.draw_kamada_kawai(graph, with_labels=True)\n",
    "\n",
    "degree_sequence = sorted((d for n, d in graph.degree()), reverse=True)\n",
    "degree_max = max(degree_sequence)\n",
    "max_num_colors = degree_max\n",
    "\n",
    "coloring_model = define_min_graph_coloring_model(graph, max_num_colors)\n",
    "\n",
    "coloring_model.pprint()"
   ],
   "metadata": {
    "collapsed": false,
    "pycharm": {
     "name": "#%%\n"
    }
   }
  },
  {
   "cell_type": "code",
   "execution_count": 8,
   "outputs": [],
   "source": [
    "from classiq import construct_combinatorial_optimization_model\n",
    "from classiq.applications.combinatorial_optimization import OptimizerConfig, QAOAConfig\n",
    "\n",
    "qaoa_config = QAOAConfig(num_layers=6, penalty_energy=10.0)\n",
    "\n",
    "optimizer_config = OptimizerConfig(alpha_cvar=0.3)\n",
    "\n",
    "qmod = construct_combinatorial_optimization_model(\n",
    "    pyo_model=coloring_model,\n",
    "    qaoa_config=qaoa_config,\n",
    "    optimizer_config=optimizer_config,\n",
    ")\n",
    "\n",
    "with open('graphcolor.qmod', 'w') as f:\n",
    "    f.write(qmod)\n"
   ],
   "metadata": {
    "collapsed": false,
    "pycharm": {
     "name": "#%%\n"
    }
   }
  },
  {
   "cell_type": "code",
   "execution_count": 11,
   "outputs": [],
   "source": [],
   "metadata": {
    "collapsed": false,
    "pycharm": {
     "name": "#%%\n"
    }
   }
  },
  {
   "cell_type": "code",
   "execution_count": 9,
   "outputs": [
    {
     "ename": "ClassiqAPIError",
     "evalue": "Call to API failed with code 404\nIf you need further assistance, please reach out on our Community Slack channel at: https://short.classiq.io/join-slack\nIf the error persists feel free to open a ticket at: https://short.classiq.io/support",
     "output_type": "error",
     "traceback": [
      "\u001B[1;31m---------------------------------------------------------------------------\u001B[0m",
      "\u001B[1;31mClassiqAPIError\u001B[0m                           Traceback (most recent call last)",
      "Cell \u001B[1;32mIn[9], line 3\u001B[0m\n\u001B[0;32m      1\u001B[0m \u001B[38;5;28;01mfrom\u001B[39;00m \u001B[38;5;21;01mclassiq\u001B[39;00m \u001B[38;5;28;01mimport\u001B[39;00m show, synthesize\n\u001B[1;32m----> 3\u001B[0m qprogram \u001B[38;5;241m=\u001B[39m \u001B[43msynthesize\u001B[49m\u001B[43m(\u001B[49m\u001B[43mqmod\u001B[49m\u001B[43m)\u001B[49m\n\u001B[0;32m      4\u001B[0m show(qprogram)\n",
      "File \u001B[1;32m~\\Pycharm Projects\\quantum\\lib\\site-packages\\classiq\\_internals\\async_utils.py:50\u001B[0m, in \u001B[0;36msyncify_function.<locals>.async_wrapper\u001B[1;34m(*args, **kwargs)\u001B[0m\n\u001B[0;32m     48\u001B[0m \u001B[38;5;129m@functools\u001B[39m\u001B[38;5;241m.\u001B[39mwraps(async_func)\n\u001B[0;32m     49\u001B[0m \u001B[38;5;28;01mdef\u001B[39;00m \u001B[38;5;21masync_wrapper\u001B[39m(\u001B[38;5;241m*\u001B[39margs: Any, \u001B[38;5;241m*\u001B[39m\u001B[38;5;241m*\u001B[39mkwargs: Any) \u001B[38;5;241m-\u001B[39m\u001B[38;5;241m>\u001B[39m T:\n\u001B[1;32m---> 50\u001B[0m     \u001B[38;5;28;01mreturn\u001B[39;00m \u001B[43mrun\u001B[49m\u001B[43m(\u001B[49m\u001B[43masync_func\u001B[49m\u001B[43m(\u001B[49m\u001B[38;5;241;43m*\u001B[39;49m\u001B[43margs\u001B[49m\u001B[43m,\u001B[49m\u001B[43m \u001B[49m\u001B[38;5;241;43m*\u001B[39;49m\u001B[38;5;241;43m*\u001B[39;49m\u001B[43mkwargs\u001B[49m\u001B[43m)\u001B[49m\u001B[43m)\u001B[49m\n",
      "File \u001B[1;32m~\\Pycharm Projects\\quantum\\lib\\site-packages\\classiq\\_internals\\async_utils.py:44\u001B[0m, in \u001B[0;36mrun\u001B[1;34m(coro)\u001B[0m\n\u001B[0;32m     39\u001B[0m \u001B[38;5;28;01mdef\u001B[39;00m \u001B[38;5;21mrun\u001B[39m(coro: Awaitable[T]) \u001B[38;5;241m-\u001B[39m\u001B[38;5;241m>\u001B[39m T:\n\u001B[0;32m     40\u001B[0m     \u001B[38;5;66;03m# Use this function instead of asyncio.run, since it ALWAYS\u001B[39;00m\n\u001B[0;32m     41\u001B[0m     \u001B[38;5;66;03m# creates a new event loop and clears the thread event loop.\u001B[39;00m\n\u001B[0;32m     42\u001B[0m     \u001B[38;5;66;03m# Never use asyncio.run in library code.\u001B[39;00m\n\u001B[0;32m     43\u001B[0m     loop \u001B[38;5;241m=\u001B[39m get_event_loop()\n\u001B[1;32m---> 44\u001B[0m     \u001B[38;5;28;01mreturn\u001B[39;00m \u001B[43mloop\u001B[49m\u001B[38;5;241;43m.\u001B[39;49m\u001B[43mrun_until_complete\u001B[49m\u001B[43m(\u001B[49m\u001B[43mcoro\u001B[49m\u001B[43m)\u001B[49m\n",
      "File \u001B[1;32m~\\Pycharm Projects\\quantum\\lib\\site-packages\\nest_asyncio.py:99\u001B[0m, in \u001B[0;36m_patch_loop.<locals>.run_until_complete\u001B[1;34m(self, future)\u001B[0m\n\u001B[0;32m     96\u001B[0m \u001B[38;5;28;01mif\u001B[39;00m \u001B[38;5;129;01mnot\u001B[39;00m f\u001B[38;5;241m.\u001B[39mdone():\n\u001B[0;32m     97\u001B[0m     \u001B[38;5;28;01mraise\u001B[39;00m \u001B[38;5;167;01mRuntimeError\u001B[39;00m(\n\u001B[0;32m     98\u001B[0m         \u001B[38;5;124m'\u001B[39m\u001B[38;5;124mEvent loop stopped before Future completed.\u001B[39m\u001B[38;5;124m'\u001B[39m)\n\u001B[1;32m---> 99\u001B[0m \u001B[38;5;28;01mreturn\u001B[39;00m \u001B[43mf\u001B[49m\u001B[38;5;241;43m.\u001B[39;49m\u001B[43mresult\u001B[49m\u001B[43m(\u001B[49m\u001B[43m)\u001B[49m\n",
      "File \u001B[1;32m~\\AppData\\Local\\Programs\\Python\\Python310\\lib\\asyncio\\futures.py:201\u001B[0m, in \u001B[0;36mFuture.result\u001B[1;34m(self)\u001B[0m\n\u001B[0;32m    199\u001B[0m \u001B[38;5;28mself\u001B[39m\u001B[38;5;241m.\u001B[39m__log_traceback \u001B[38;5;241m=\u001B[39m \u001B[38;5;28;01mFalse\u001B[39;00m\n\u001B[0;32m    200\u001B[0m \u001B[38;5;28;01mif\u001B[39;00m \u001B[38;5;28mself\u001B[39m\u001B[38;5;241m.\u001B[39m_exception \u001B[38;5;129;01mis\u001B[39;00m \u001B[38;5;129;01mnot\u001B[39;00m \u001B[38;5;28;01mNone\u001B[39;00m:\n\u001B[1;32m--> 201\u001B[0m     \u001B[38;5;28;01mraise\u001B[39;00m \u001B[38;5;28mself\u001B[39m\u001B[38;5;241m.\u001B[39m_exception\u001B[38;5;241m.\u001B[39mwith_traceback(\u001B[38;5;28mself\u001B[39m\u001B[38;5;241m.\u001B[39m_exception_tb)\n\u001B[0;32m    202\u001B[0m \u001B[38;5;28;01mreturn\u001B[39;00m \u001B[38;5;28mself\u001B[39m\u001B[38;5;241m.\u001B[39m_result\n",
      "File \u001B[1;32m~\\AppData\\Local\\Programs\\Python\\Python310\\lib\\asyncio\\tasks.py:232\u001B[0m, in \u001B[0;36mTask.__step\u001B[1;34m(***failed resolving arguments***)\u001B[0m\n\u001B[0;32m    228\u001B[0m \u001B[38;5;28;01mtry\u001B[39;00m:\n\u001B[0;32m    229\u001B[0m     \u001B[38;5;28;01mif\u001B[39;00m exc \u001B[38;5;129;01mis\u001B[39;00m \u001B[38;5;28;01mNone\u001B[39;00m:\n\u001B[0;32m    230\u001B[0m         \u001B[38;5;66;03m# We use the `send` method directly, because coroutines\u001B[39;00m\n\u001B[0;32m    231\u001B[0m         \u001B[38;5;66;03m# don't have `__iter__` and `__next__` methods.\u001B[39;00m\n\u001B[1;32m--> 232\u001B[0m         result \u001B[38;5;241m=\u001B[39m \u001B[43mcoro\u001B[49m\u001B[38;5;241;43m.\u001B[39;49m\u001B[43msend\u001B[49m\u001B[43m(\u001B[49m\u001B[38;5;28;43;01mNone\u001B[39;49;00m\u001B[43m)\u001B[49m\n\u001B[0;32m    233\u001B[0m     \u001B[38;5;28;01melse\u001B[39;00m:\n\u001B[0;32m    234\u001B[0m         result \u001B[38;5;241m=\u001B[39m coro\u001B[38;5;241m.\u001B[39mthrow(exc)\n",
      "File \u001B[1;32m~\\Pycharm Projects\\quantum\\lib\\site-packages\\classiq\\synthesis.py:21\u001B[0m, in \u001B[0;36msynthesize_async\u001B[1;34m(serialized_model)\u001B[0m\n\u001B[0;32m     17\u001B[0m \u001B[38;5;28;01masync\u001B[39;00m \u001B[38;5;28;01mdef\u001B[39;00m \u001B[38;5;21msynthesize_async\u001B[39m(\n\u001B[0;32m     18\u001B[0m     serialized_model: SerializedModelInput,\n\u001B[0;32m     19\u001B[0m ) \u001B[38;5;241m-\u001B[39m\u001B[38;5;241m>\u001B[39m SerializedQuantumProgram:\n\u001B[0;32m     20\u001B[0m     model: ModelInput \u001B[38;5;241m=\u001B[39m pydantic\u001B[38;5;241m.\u001B[39mparse_raw_as(ModelInput, serialized_model)  \u001B[38;5;66;03m# type: ignore[arg-type]\u001B[39;00m\n\u001B[1;32m---> 21\u001B[0m     quantum_program \u001B[38;5;241m=\u001B[39m \u001B[38;5;28;01mawait\u001B[39;00m ApiWrapper\u001B[38;5;241m.\u001B[39mcall_generation_task(model)\n\u001B[0;32m     22\u001B[0m     \u001B[38;5;28;01mreturn\u001B[39;00m SerializedQuantumProgram(quantum_program\u001B[38;5;241m.\u001B[39mjson(indent\u001B[38;5;241m=\u001B[39m\u001B[38;5;241m2\u001B[39m))\n",
      "File \u001B[1;32m~\\Pycharm Projects\\quantum\\lib\\site-packages\\classiq\\_internals\\api_wrapper.py:92\u001B[0m, in \u001B[0;36mApiWrapper.call_generation_task\u001B[1;34m(cls, model)\u001B[0m\n\u001B[0;32m     90\u001B[0m \u001B[38;5;129m@classmethod\u001B[39m\n\u001B[0;32m     91\u001B[0m \u001B[38;5;28;01masync\u001B[39;00m \u001B[38;5;28;01mdef\u001B[39;00m \u001B[38;5;21mcall_generation_task\u001B[39m(\u001B[38;5;28mcls\u001B[39m, model: ModelInput) \u001B[38;5;241m-\u001B[39m\u001B[38;5;241m>\u001B[39m _Circuit:\n\u001B[1;32m---> 92\u001B[0m     poller \u001B[38;5;241m=\u001B[39m \u001B[43mJobPoller\u001B[49m\u001B[43m(\u001B[49m\u001B[43mbase_url\u001B[49m\u001B[38;5;241;43m=\u001B[39;49m\u001B[43mroutes\u001B[49m\u001B[38;5;241;43m.\u001B[39;49m\u001B[43mTASKS_GENERATE_FULL_PATH\u001B[49m\u001B[43m)\u001B[49m\n\u001B[0;32m     93\u001B[0m     result \u001B[38;5;241m=\u001B[39m \u001B[38;5;28;01mawait\u001B[39;00m poller\u001B[38;5;241m.\u001B[39mrun_pydantic(model, timeout_sec\u001B[38;5;241m=\u001B[39m\u001B[38;5;28;01mNone\u001B[39;00m)\n\u001B[0;32m     94\u001B[0m     \u001B[38;5;28;01mreturn\u001B[39;00m _parse_job_response_multiple_outputs(result, _Circuit)\n",
      "File \u001B[1;32m~\\Pycharm Projects\\quantum\\lib\\site-packages\\classiq\\_internals\\jobs.py:46\u001B[0m, in \u001B[0;36mJobPoller.__init__\u001B[1;34m(self, base_url, required_headers)\u001B[0m\n\u001B[0;32m     42\u001B[0m \u001B[38;5;28;01mdef\u001B[39;00m \u001B[38;5;21m__init__\u001B[39m(\n\u001B[0;32m     43\u001B[0m     \u001B[38;5;28mself\u001B[39m, base_url: \u001B[38;5;28mstr\u001B[39m, required_headers: Optional[Set[\u001B[38;5;28mstr\u001B[39m]] \u001B[38;5;241m=\u001B[39m \u001B[38;5;28;01mNone\u001B[39;00m\n\u001B[0;32m     44\u001B[0m ) \u001B[38;5;241m-\u001B[39m\u001B[38;5;241m>\u001B[39m \u001B[38;5;28;01mNone\u001B[39;00m:\n\u001B[0;32m     45\u001B[0m     \u001B[38;5;28mself\u001B[39m\u001B[38;5;241m.\u001B[39m_required_headers \u001B[38;5;241m=\u001B[39m required_headers \u001B[38;5;129;01mor\u001B[39;00m \u001B[38;5;28mset\u001B[39m()\n\u001B[1;32m---> 46\u001B[0m     client_instance \u001B[38;5;241m=\u001B[39m \u001B[43mclient\u001B[49m\u001B[43m(\u001B[49m\u001B[43m)\u001B[49m\n\u001B[0;32m     47\u001B[0m     \u001B[38;5;28mself\u001B[39m\u001B[38;5;241m.\u001B[39m_base_url \u001B[38;5;241m=\u001B[39m client_instance\u001B[38;5;241m.\u001B[39mmake_versioned_url(base_url)\n\u001B[0;32m     48\u001B[0m     \u001B[38;5;28mself\u001B[39m\u001B[38;5;241m.\u001B[39m_async_client \u001B[38;5;241m=\u001B[39m client_instance\u001B[38;5;241m.\u001B[39masync_client()\n",
      "File \u001B[1;32m~\\Pycharm Projects\\quantum\\lib\\site-packages\\classiq\\_internals\\client.py:269\u001B[0m, in \u001B[0;36mclient\u001B[1;34m()\u001B[0m\n\u001B[0;32m    266\u001B[0m \u001B[38;5;28;01mglobal\u001B[39;00m DEFAULT_CLIENT\n\u001B[0;32m    267\u001B[0m \u001B[38;5;28;01mif\u001B[39;00m DEFAULT_CLIENT \u001B[38;5;129;01mis\u001B[39;00m \u001B[38;5;28;01mNone\u001B[39;00m:\n\u001B[0;32m    268\u001B[0m     \u001B[38;5;66;03m# This call initializes DEFAULT_CLIENT\u001B[39;00m\n\u001B[1;32m--> 269\u001B[0m     \u001B[43mconfigure\u001B[49m\u001B[43m(\u001B[49m\u001B[43mconfig\u001B[49m\u001B[38;5;241;43m.\u001B[39;49m\u001B[43minit\u001B[49m\u001B[43m(\u001B[49m\u001B[43m)\u001B[49m\u001B[43m)\u001B[49m\n\u001B[0;32m    270\u001B[0m \u001B[38;5;28;01massert\u001B[39;00m DEFAULT_CLIENT \u001B[38;5;129;01mis\u001B[39;00m \u001B[38;5;129;01mnot\u001B[39;00m \u001B[38;5;28;01mNone\u001B[39;00m\n\u001B[0;32m    271\u001B[0m \u001B[38;5;28;01mreturn\u001B[39;00m DEFAULT_CLIENT\n",
      "File \u001B[1;32m~\\Pycharm Projects\\quantum\\lib\\site-packages\\classiq\\_internals\\client.py:279\u001B[0m, in \u001B[0;36mconfigure\u001B[1;34m(conf)\u001B[0m\n\u001B[0;32m    277\u001B[0m DEFAULT_CLIENT \u001B[38;5;241m=\u001B[39m Client(conf\u001B[38;5;241m=\u001B[39mconf)\n\u001B[0;32m    278\u001B[0m \u001B[38;5;28;01mif\u001B[39;00m conf\u001B[38;5;241m.\u001B[39mshould_check_host:\n\u001B[1;32m--> 279\u001B[0m     \u001B[43mDEFAULT_CLIENT\u001B[49m\u001B[38;5;241;43m.\u001B[39;49m\u001B[43mcheck_host\u001B[49m\u001B[43m(\u001B[49m\u001B[43m)\u001B[49m\n",
      "File \u001B[1;32m~\\Pycharm Projects\\quantum\\lib\\site-packages\\classiq\\_internals\\client.py:251\u001B[0m, in \u001B[0;36mClient.check_host\u001B[1;34m(self)\u001B[0m\n\u001B[0;32m    240\u001B[0m \u001B[38;5;28;01mdef\u001B[39;00m \u001B[38;5;21mcheck_host\u001B[39m(\u001B[38;5;28mself\u001B[39m) \u001B[38;5;241m-\u001B[39m\u001B[38;5;241m>\u001B[39m \u001B[38;5;28;01mNone\u001B[39;00m:\n\u001B[0;32m    241\u001B[0m     \u001B[38;5;66;03m# This function is NOT async (despite the fact that it can be) because it's called from a non-async context.\u001B[39;00m\n\u001B[0;32m    242\u001B[0m     \u001B[38;5;66;03m# If this happens when we already run in an event loop (e.g. inside a call to asyncio.run), we can't go in to\u001B[39;00m\n\u001B[1;32m   (...)\u001B[0m\n\u001B[0;32m    248\u001B[0m     \u001B[38;5;66;03m# Since this happened once, we'll leave it for now. If it happens again, we should split the Client\u001B[39;00m\n\u001B[0;32m    249\u001B[0m     \u001B[38;5;66;03m# into a low level client for accessing the server and a high level client.\u001B[39;00m\n\u001B[0;32m    250\u001B[0m     checker \u001B[38;5;241m=\u001B[39m HostChecker(\u001B[38;5;28mself\u001B[39m, client_version\u001B[38;5;241m=\u001B[39m_VERSION)\n\u001B[1;32m--> 251\u001B[0m     \u001B[43mchecker\u001B[49m\u001B[38;5;241;43m.\u001B[39;49m\u001B[43mcheck_host_version\u001B[49m\u001B[43m(\u001B[49m\u001B[43m)\u001B[49m\n\u001B[0;32m    252\u001B[0m     checker\u001B[38;5;241m.\u001B[39mcheck_deprecated_version()\n",
      "File \u001B[1;32m~\\Pycharm Projects\\quantum\\lib\\site-packages\\classiq\\_internals\\host_checker.py:59\u001B[0m, in \u001B[0;36mHostChecker.check_host_version\u001B[1;34m(self)\u001B[0m\n\u001B[0;32m     57\u001B[0m \u001B[38;5;28;01mdef\u001B[39;00m \u001B[38;5;21mcheck_host_version\u001B[39m(\u001B[38;5;28mself\u001B[39m) \u001B[38;5;241m-\u001B[39m\u001B[38;5;241m>\u001B[39m \u001B[38;5;28;01mNone\u001B[39;00m:\n\u001B[0;32m     58\u001B[0m     \u001B[38;5;28;01mtry\u001B[39;00m:\n\u001B[1;32m---> 59\u001B[0m         raw_host_version \u001B[38;5;241m=\u001B[39m \u001B[38;5;28;43mself\u001B[39;49m\u001B[38;5;241;43m.\u001B[39;49m\u001B[43m_get_host_version\u001B[49m\u001B[43m(\u001B[49m\u001B[43m)\u001B[49m\n\u001B[0;32m     60\u001B[0m     \u001B[38;5;28;01mexcept\u001B[39;00m httpx\u001B[38;5;241m.\u001B[39mConnectError:\n\u001B[0;32m     61\u001B[0m         _logger\u001B[38;5;241m.\u001B[39mwarning(\n\u001B[0;32m     62\u001B[0m             \u001B[38;5;124m\"\u001B[39m\u001B[38;5;124mVersion check failed - host unavailable.\u001B[39m\u001B[38;5;124m\"\u001B[39m,\n\u001B[0;32m     63\u001B[0m         )\n",
      "File \u001B[1;32m~\\Pycharm Projects\\quantum\\lib\\site-packages\\classiq\\_internals\\host_checker.py:34\u001B[0m, in \u001B[0;36mHostChecker._get_host_version\u001B[1;34m(self)\u001B[0m\n\u001B[0;32m     33\u001B[0m \u001B[38;5;28;01mdef\u001B[39;00m \u001B[38;5;21m_get_host_version\u001B[39m(\u001B[38;5;28mself\u001B[39m) \u001B[38;5;241m-\u001B[39m\u001B[38;5;241m>\u001B[39m \u001B[38;5;28mstr\u001B[39m:\n\u001B[1;32m---> 34\u001B[0m     host \u001B[38;5;241m=\u001B[39m HostVersions\u001B[38;5;241m.\u001B[39mparse_obj(\u001B[38;5;28;43mself\u001B[39;49m\u001B[38;5;241;43m.\u001B[39;49m\u001B[43m_client\u001B[49m\u001B[38;5;241;43m.\u001B[39;49m\u001B[43msync_call_api\u001B[49m\u001B[43m(\u001B[49m\u001B[38;5;124;43m\"\u001B[39;49m\u001B[38;5;124;43mget\u001B[39;49m\u001B[38;5;124;43m\"\u001B[39;49m\u001B[43m,\u001B[49m\u001B[43m \u001B[49m\u001B[38;5;124;43m\"\u001B[39;49m\u001B[38;5;124;43m/versions\u001B[39;49m\u001B[38;5;124;43m\"\u001B[39;49m\u001B[43m)\u001B[49m)\n\u001B[0;32m     35\u001B[0m     \u001B[38;5;28;01mreturn\u001B[39;00m host\u001B[38;5;241m.\u001B[39mclassiq_interface\n",
      "File \u001B[1;32m~\\Pycharm Projects\\quantum\\lib\\site-packages\\classiq\\_internals\\client.py:218\u001B[0m, in \u001B[0;36mClient.sync_call_api\u001B[1;34m(self, http_method, url, body, use_versioned_url)\u001B[0m\n\u001B[0;32m    216\u001B[0m \u001B[38;5;28;01mwith\u001B[39;00m httpx\u001B[38;5;241m.\u001B[39mClient(\u001B[38;5;241m*\u001B[39m\u001B[38;5;241m*\u001B[39m\u001B[38;5;28mself\u001B[39m\u001B[38;5;241m.\u001B[39m_make_client_args()) \u001B[38;5;28;01mas\u001B[39;00m sync_client:\n\u001B[0;32m    217\u001B[0m     response \u001B[38;5;241m=\u001B[39m sync_client\u001B[38;5;241m.\u001B[39mrequest(method\u001B[38;5;241m=\u001B[39mhttp_method, url\u001B[38;5;241m=\u001B[39murl, json\u001B[38;5;241m=\u001B[39mbody)\n\u001B[1;32m--> 218\u001B[0m     \u001B[38;5;28;43mself\u001B[39;49m\u001B[38;5;241;43m.\u001B[39;49m\u001B[43mhandle_response\u001B[49m\u001B[43m(\u001B[49m\u001B[43mresponse\u001B[49m\u001B[43m)\u001B[49m\n\u001B[0;32m    219\u001B[0m     \u001B[38;5;28;01mreturn\u001B[39;00m response\u001B[38;5;241m.\u001B[39mjson()\n",
      "File \u001B[1;32m~\\Pycharm Projects\\quantum\\lib\\site-packages\\classiq\\_internals\\client.py:161\u001B[0m, in \u001B[0;36mClient.handle_response\u001B[1;34m(self, response)\u001B[0m\n\u001B[0;32m    159\u001B[0m \u001B[38;5;28;01mdef\u001B[39;00m \u001B[38;5;21mhandle_response\u001B[39m(\u001B[38;5;28mself\u001B[39m, response: httpx\u001B[38;5;241m.\u001B[39mResponse) \u001B[38;5;241m-\u001B[39m\u001B[38;5;241m>\u001B[39m \u001B[38;5;28;01mNone\u001B[39;00m:\n\u001B[0;32m    160\u001B[0m     \u001B[38;5;28;01mif\u001B[39;00m response\u001B[38;5;241m.\u001B[39mis_error:\n\u001B[1;32m--> 161\u001B[0m         \u001B[38;5;28;43mself\u001B[39;49m\u001B[38;5;241;43m.\u001B[39;49m\u001B[43m_handle_error\u001B[49m\u001B[43m(\u001B[49m\u001B[43mresponse\u001B[49m\u001B[43m)\u001B[49m\n\u001B[0;32m    162\u001B[0m     \u001B[38;5;28mself\u001B[39m\u001B[38;5;241m.\u001B[39m_handle_success(response)\n",
      "File \u001B[1;32m~\\Pycharm Projects\\quantum\\lib\\site-packages\\classiq\\_internals\\client.py:180\u001B[0m, in \u001B[0;36mClient._handle_error\u001B[1;34m(response)\u001B[0m\n\u001B[0;32m    178\u001B[0m \u001B[38;5;28;01mexcept\u001B[39;00m \u001B[38;5;167;01mException\u001B[39;00m:  \u001B[38;5;66;03m# nosec B110\u001B[39;00m\n\u001B[0;32m    179\u001B[0m     \u001B[38;5;28;01mpass\u001B[39;00m\n\u001B[1;32m--> 180\u001B[0m \u001B[38;5;28;01mraise\u001B[39;00m ClassiqAPIError(message)\n",
      "\u001B[1;31mClassiqAPIError\u001B[0m: Call to API failed with code 404\nIf you need further assistance, please reach out on our Community Slack channel at: https://short.classiq.io/join-slack\nIf the error persists feel free to open a ticket at: https://short.classiq.io/support"
     ]
    }
   ],
   "source": [
    "from classiq import show, synthesize\n",
    "\n",
    "qprogram = synthesize(qmod)\n",
    "show(qprogram)"
   ],
   "metadata": {
    "collapsed": false,
    "pycharm": {
     "name": "#%%\n"
    }
   }
  },
  {
   "cell_type": "code",
   "execution_count": null,
   "outputs": [],
   "source": [],
   "metadata": {
    "collapsed": false,
    "pycharm": {
     "name": "#%%\n"
    }
   }
  }
 ],
 "metadata": {
  "kernelspec": {
   "display_name": "Python 3",
   "language": "python",
   "name": "python3"
  },
  "language_info": {
   "codemirror_mode": {
    "name": "ipython",
    "version": 2
   },
   "file_extension": ".py",
   "mimetype": "text/x-python",
   "name": "python",
   "nbconvert_exporter": "python",
   "pygments_lexer": "ipython2",
   "version": "2.7.6"
  }
 },
 "nbformat": 4,
 "nbformat_minor": 0
}